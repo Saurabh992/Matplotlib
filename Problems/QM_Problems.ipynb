{
 "cells": [
  {
   "cell_type": "code",
   "execution_count": 6,
   "metadata": {},
   "outputs": [],
   "source": [
    "import numpy as np \n",
    "import matplotlib.pyplot as plt \n",
    "import sympy as smp \n",
    "from sympy.functions import conjugate\n",
    "from scipy.integrate import nquad"
   ]
  },
  {
   "cell_type": "markdown",
   "metadata": {},
   "source": [
    "# Question"
   ]
  },
  {
   "cell_type": "markdown",
   "metadata": {},
   "source": [
    "An electron is initially prepared in quantum mechanical state with zero avg momentum and a wavefunction "
   ]
  },
  {
   "cell_type": "markdown",
   "metadata": {},
   "source": [
    "$$ \\psi(x,t=0)\\ \\propto e^{-\\frac{x^2}{2a^2}} $$"
   ]
  },
  {
   "cell_type": "markdown",
   "metadata": {},
   "source": [
    "The potential everywhere is zero. A detector is positioned at distance x = L from the electron's initial position."
   ]
  },
  {
   "cell_type": "markdown",
   "metadata": {},
   "source": [
    "1. After approximately how long, the electron likely to have passed the detector?\n",
    "2. Find the probability of observing the electron at x = L as a function of time."
   ]
  },
  {
   "cell_type": "markdown",
   "metadata": {},
   "source": [
    "# Part 1"
   ]
  },
  {
   "cell_type": "markdown",
   "metadata": {},
   "source": [
    "We can obtain an estimate by computing $\\braket{p^2}$ from the wavefunction and then using the classical estimation p = mv = mL/t where t is the time to get to the detector. This gives"
   ]
  },
  {
   "cell_type": "markdown",
   "metadata": {},
   "source": [
    "$$ t = \\frac{mL}{\\sqrt{\\braket{p^2}}} $$"
   ]
  },
  {
   "cell_type": "markdown",
   "metadata": {},
   "source": [
    "Ofcourse, since the particle starts with zero avg momentum, it can only have at most a 50% chance of passing the detector, We just need to compute $\\braket{p^2}$, given by"
   ]
  },
  {
   "cell_type": "markdown",
   "metadata": {},
   "source": [
    "$$ \\braket{p^2}\\ =\\ \\int_{-\\infty}^{\\infty} \\psi^*\\hat{p^2}\\psi dx = \\int_{-\\infty}^{\\infty} \\psi^*\\Big(-\\frac{\\partial^2}{\\partial x^2}\\psi\\Big)dx $$"
   ]
  },
  {
   "cell_type": "markdown",
   "metadata": {},
   "source": [
    "First, lets define all the varaibles we need, making sure to specify all their properties :"
   ]
  },
  {
   "cell_type": "code",
   "execution_count": 7,
   "metadata": {},
   "outputs": [],
   "source": [
    "x = smp.symbols('x', real=True)\n",
    "a, L, m, k, kp, t = smp.symbols('a L m k k\\' t', real=True, positive=True)"
   ]
  },
  {
   "cell_type": "markdown",
   "metadata": {},
   "source": [
    "Now, lets define and normalize the Wavefunction :"
   ]
  },
  {
   "cell_type": "code",
   "execution_count": 8,
   "metadata": {},
   "outputs": [],
   "source": [
    "exp = smp.exp(-x**2/ (2*a**2))\n",
    "psi = exp/smp.sqrt(smp.integrate(exp**2, (x, -smp.oo, smp.oo)))"
   ]
  },
  {
   "cell_type": "code",
   "execution_count": 9,
   "metadata": {},
   "outputs": [
    {
     "data": {
      "text/latex": [
       "$\\displaystyle e^{- \\frac{x^{2}}{2 a^{2}}}$"
      ],
      "text/plain": [
       "exp(-x**2/(2*a**2))"
      ]
     },
     "execution_count": 9,
     "metadata": {},
     "output_type": "execute_result"
    }
   ],
   "source": [
    "exp"
   ]
  },
  {
   "cell_type": "code",
   "execution_count": 10,
   "metadata": {},
   "outputs": [
    {
     "data": {
      "text/latex": [
       "$\\displaystyle \\frac{e^{- \\frac{x^{2}}{2 a^{2}}}}{\\sqrt[4]{\\pi} \\sqrt{a}}$"
      ],
      "text/plain": [
       "exp(-x**2/(2*a**2))/(pi**(1/4)*sqrt(a))"
      ]
     },
     "execution_count": 10,
     "metadata": {},
     "output_type": "execute_result"
    }
   ],
   "source": [
    "psi"
   ]
  },
  {
   "cell_type": "markdown",
   "metadata": {},
   "source": [
    "Now, Computing the value of $\\braket{p^2}$"
   ]
  },
  {
   "cell_type": "code",
   "execution_count": 11,
   "metadata": {},
   "outputs": [
    {
     "data": {
      "text/latex": [
       "$\\displaystyle \\frac{1}{2 a^{2}}$"
      ],
      "text/plain": [
       "1/(2*a**2)"
      ]
     },
     "execution_count": 11,
     "metadata": {},
     "output_type": "execute_result"
    }
   ],
   "source": [
    "p2 = smp.integrate(psi*(-smp.diff(psi, (x,2))), (x, -smp.oo, smp.oo))\n",
    "p2"
   ]
  },
  {
   "cell_type": "markdown",
   "metadata": {},
   "source": [
    "Now, we compute the time t given the equation above:"
   ]
  },
  {
   "cell_type": "code",
   "execution_count": 12,
   "metadata": {},
   "outputs": [
    {
     "data": {
      "text/latex": [
       "$\\displaystyle \\sqrt{2} L a m$"
      ],
      "text/plain": [
       "sqrt(2)*L*a*m"
      ]
     },
     "execution_count": 12,
     "metadata": {},
     "output_type": "execute_result"
    }
   ],
   "source": [
    "T = m*L/smp.sqrt(p2)\n",
    "T"
   ]
  },
  {
   "cell_type": "markdown",
   "metadata": {},
   "source": [
    "This does not currently have units of time (has units $kg.m^2$). Since $\\hbar$ which we chose 1 has units $kg.m^2$, we simply need to divide by $\\hbar$ if we want to do numeric computation"
   ]
  },
  {
   "cell_type": "markdown",
   "metadata": {},
   "source": [
    "# Part 2"
   ]
  },
  {
   "cell_type": "markdown",
   "metadata": {},
   "source": [
    "Above was simply an approximation. The wavefunction changes in time according to the Schrodinger Equation, which in the position basis, is given by :"
   ]
  },
  {
   "cell_type": "markdown",
   "metadata": {},
   "source": [
    "$$ i\\frac{\\partial}{\\partial t}\\psi(x,t)\\ =\\ H\\psi(x,t) $$"
   ]
  },
  {
   "cell_type": "markdown",
   "metadata": {},
   "source": [
    "where, H = $-\\frac{1}{2m}\\frac{\\partial^2}{\\partial x^2}$ is the Hamiltonian linear operator for a particle in a free space. the general solution to this equation is given by"
   ]
  },
  {
   "cell_type": "markdown",
   "metadata": {},
   "source": [
    "$$ \\psi(x,t)\\ =\\ e^{iHt}\\psi(x,t=0) $$"
   ]
  },
  {
   "cell_type": "markdown",
   "metadata": {},
   "source": [
    "where $e^A \\equiv \\sum_{n=0}^{\\infty} \\frac{A^n}{n!}.$ Since we know $\\psi(x,t=0)$ and we know H, we essentially have the solution! it's just not in the convenient form. so if we can express $\\psi(x,t=0$ in terms of the eigenstates of H as $\\psi(x,0)\\ =\\ \\int_{E} \\psi_{E}(x)(E)dE_c,$ then the solution is"
   ]
  },
  {
   "cell_type": "markdown",
   "metadata": {},
   "source": [
    "$$ \\psi(x,t)\\ = \\ e^{iHt}\\psi(x,t=0) $$\n",
    "$$ =\\ e^{iHt}\\int_{E}\\psi_{E}(x)(E)dE_c $$\n",
    "$$ =\\ \\int_{E}\\psi_{E}(x)e^{iEt}(E)dE_c $$"
   ]
  },
  {
   "cell_type": "markdown",
   "metadata": {},
   "source": [
    "For this we need the eigenvalues and eigenstates of H. For this, we use H = $-\\frac{1}{2m}\\frac{\\partial^2}{\\partial x^2}$ and search for eigenstates"
   ]
  },
  {
   "cell_type": "markdown",
   "metadata": {},
   "source": [
    "$$ H\\psi = E\\psi $$\n",
    "$$ -\\frac{1}{2m}\\frac{\\partial^2}{\\partial x^2}\\psi =\\ E\\psi $$\n",
    "$$ \\frac{\\partial^2}{\\partial x^2}\\psi =\\ -2mE\\psi $$"
   ]
  },
  {
   "cell_type": "markdown",
   "metadata": {},
   "source": [
    "Our characteristic length scale of the problem is a, so ,multiplying this eqn. by a and redefining x such that "
   ]
  },
  {
   "cell_type": "markdown",
   "metadata": {},
   "source": [
    "$$ \\frac{\\partial^2}{\\partial x^2}\\psi =\\ -2ma^2.E\\psi $$"
   ]
  },
  {
   "cell_type": "markdown",
   "metadata": {},
   "source": [
    "Let $2ma^2E\\ =\\ k^2$, then, we have $\\frac{\\partial^2}{\\partial x^2}\\psi =\\ -2ma^2.E\\psi $ and the solution to this eqn. is given by, $\\psi_{k}\\ =\\ e^{ikx}.$\n",
    "$$ \\psi(x,0)\\ =\\ \\int_{E}\\psi_{E}(x)(E)dE_c\\ =\\ \\int_{-\\infty}^{\\infty}c(k).e^{ikx}dk $$"
   ]
  },
  {
   "cell_type": "markdown",
   "metadata": {},
   "source": [
    "So, the c(k)'s are just the inverse Fourier transform of $\\psi(x,0)$:\n",
    "$$ c(k)\\ =\\ \\frac{1}{2\\pi}\\int_{-\\infty}^{\\infty} \\psi(x,0)e^{-ikx}dx $$"
   ]
  },
  {
   "cell_type": "markdown",
   "metadata": {},
   "source": [
    "We have all the information to find these. FIrst lets redefine $\\psi$ using x $\\rightarrow$ x/a"
   ]
  },
  {
   "cell_type": "code",
   "execution_count": 13,
   "metadata": {},
   "outputs": [],
   "source": [
    "psi = smp.exp(-x**2/2)\n",
    "psi = psi/smp.sqrt(smp.integrate(psi**2, (x, -smp.oo, smp.oo)))"
   ]
  },
  {
   "cell_type": "code",
   "execution_count": 14,
   "metadata": {},
   "outputs": [
    {
     "data": {
      "text/latex": [
       "$\\displaystyle \\frac{e^{- \\frac{x^{2}}{2}}}{\\sqrt[4]{\\pi}}$"
      ],
      "text/plain": [
       "exp(-x**2/2)/pi**(1/4)"
      ]
     },
     "execution_count": 14,
     "metadata": {},
     "output_type": "execute_result"
    }
   ],
   "source": [
    "psi"
   ]
  },
  {
   "cell_type": "markdown",
   "metadata": {},
   "source": [
    "Now, define $\\psi_k(x)$ and get the c(k)'s"
   ]
  },
  {
   "cell_type": "code",
   "execution_count": 15,
   "metadata": {},
   "outputs": [],
   "source": [
    "psi_k = smp.exp(smp.I*k*x)\n",
    "c_k = 1/(2*smp.pi) * smp.integrate(psi*psi_k.conjugate(), (x, -smp.oo, smp.oo)).simplify()"
   ]
  },
  {
   "cell_type": "code",
   "execution_count": 16,
   "metadata": {},
   "outputs": [
    {
     "data": {
      "text/latex": [
       "$\\displaystyle e^{i k x}$"
      ],
      "text/plain": [
       "exp(I*k*x)"
      ]
     },
     "execution_count": 16,
     "metadata": {},
     "output_type": "execute_result"
    }
   ],
   "source": [
    "psi_k"
   ]
  },
  {
   "cell_type": "code",
   "execution_count": 17,
   "metadata": {},
   "outputs": [
    {
     "data": {
      "text/latex": [
       "$\\displaystyle \\frac{\\sqrt{2} e^{- \\frac{k^{2}}{2}}}{2 \\pi^{\\frac{3}{4}}}$"
      ],
      "text/plain": [
       "sqrt(2)*exp(-k**2/2)/(2*pi**(3/4))"
      ]
     },
     "execution_count": 17,
     "metadata": {},
     "output_type": "execute_result"
    }
   ],
   "source": [
    "c_k"
   ]
  },
  {
   "cell_type": "markdown",
   "metadata": {},
   "source": [
    "Let's check to make sure we get our original wave function back by evaluating $\\int_{-\\infty}^{\\infty}c(k).e^{ikx}dk$"
   ]
  },
  {
   "cell_type": "code",
   "execution_count": 18,
   "metadata": {},
   "outputs": [
    {
     "data": {
      "text/latex": [
       "$\\displaystyle \\frac{e^{- \\frac{x^{2}}{2}}}{\\sqrt[4]{\\pi}}$"
      ],
      "text/plain": [
       "exp(-x**2/2)/pi**(1/4)"
      ]
     },
     "execution_count": 18,
     "metadata": {},
     "output_type": "execute_result"
    }
   ],
   "source": [
    "smp.integrate(c_k*psi_k, (k, -smp.oo, smp.oo)).simplify()"
   ]
  },
  {
   "cell_type": "code",
   "execution_count": null,
   "metadata": {},
   "outputs": [],
   "source": []
  }
 ],
 "metadata": {
  "kernelspec": {
   "display_name": "tf-gpu",
   "language": "python",
   "name": "python3"
  },
  "language_info": {
   "codemirror_mode": {
    "name": "ipython",
    "version": 3
   },
   "file_extension": ".py",
   "mimetype": "text/x-python",
   "name": "python",
   "nbconvert_exporter": "python",
   "pygments_lexer": "ipython3",
   "version": "3.9.18"
  }
 },
 "nbformat": 4,
 "nbformat_minor": 2
}
